{
 "cells": [
  {
   "cell_type": "code",
   "execution_count": 2,
   "id": "ef29a6a9",
   "metadata": {},
   "outputs": [],
   "source": [
    "#Fit a linear regression model predicting the ADHERENCE using the ROUTE_ABBR and ROUTE_DIRECTION_NAME columns. \n",
    "#Measure the performance of the model using the R^2 and mean absolute error metrics. \n",
    "#Interpret the meaning of each metric."
   ]
  },
  {
   "cell_type": "code",
   "execution_count": 11,
   "id": "908143b8",
   "metadata": {},
   "outputs": [],
   "source": [
    "#import packages\n",
    "import pandas as pd\n",
    "import numpy as np\n",
    "import sklearn as sk\n",
    "import matplotlib as plt"
   ]
  },
  {
   "cell_type": "code",
   "execution_count": 2,
   "id": "e2d3e327",
   "metadata": {},
   "outputs": [],
   "source": [
    "#read in data\n",
    "wego = pd.read_csv('../data/wego_ml.csv')"
   ]
  },
  {
   "cell_type": "code",
   "execution_count": 17,
   "id": "4c2e80a2",
   "metadata": {},
   "outputs": [
    {
     "data": {
      "text/html": [
       "<div>\n",
       "<style scoped>\n",
       "    .dataframe tbody tr th:only-of-type {\n",
       "        vertical-align: middle;\n",
       "    }\n",
       "\n",
       "    .dataframe tbody tr th {\n",
       "        vertical-align: top;\n",
       "    }\n",
       "\n",
       "    .dataframe thead th {\n",
       "        text-align: right;\n",
       "    }\n",
       "</style>\n",
       "<table border=\"1\" class=\"dataframe\">\n",
       "  <thead>\n",
       "    <tr style=\"text-align: right;\">\n",
       "      <th></th>\n",
       "      <th>TO DOWNTOWN</th>\n",
       "    </tr>\n",
       "  </thead>\n",
       "  <tbody>\n",
       "    <tr>\n",
       "      <th>0</th>\n",
       "      <td>1</td>\n",
       "    </tr>\n",
       "    <tr>\n",
       "      <th>1</th>\n",
       "      <td>0</td>\n",
       "    </tr>\n",
       "    <tr>\n",
       "      <th>2</th>\n",
       "      <td>1</td>\n",
       "    </tr>\n",
       "    <tr>\n",
       "      <th>3</th>\n",
       "      <td>0</td>\n",
       "    </tr>\n",
       "    <tr>\n",
       "      <th>4</th>\n",
       "      <td>1</td>\n",
       "    </tr>\n",
       "  </tbody>\n",
       "</table>\n",
       "</div>"
      ],
      "text/plain": [
       "   TO DOWNTOWN\n",
       "0            1\n",
       "1            0\n",
       "2            1\n",
       "3            0\n",
       "4            1"
      ]
     },
     "execution_count": 17,
     "metadata": {},
     "output_type": "execute_result"
    }
   ],
   "source": [
    "#create dummy variables for ROUTE_DIRECTION_NAME\n",
    "wego_dum = pd.get_dummies(wego['ROUTE_DIRECTION_NAME'], drop_first= True)"
   ]
  },
  {
   "cell_type": "code",
   "execution_count": 18,
   "id": "098d32c4",
   "metadata": {},
   "outputs": [
    {
     "data": {
      "text/html": [
       "<div>\n",
       "<style scoped>\n",
       "    .dataframe tbody tr th:only-of-type {\n",
       "        vertical-align: middle;\n",
       "    }\n",
       "\n",
       "    .dataframe tbody tr th {\n",
       "        vertical-align: top;\n",
       "    }\n",
       "\n",
       "    .dataframe thead th {\n",
       "        text-align: right;\n",
       "    }\n",
       "</style>\n",
       "<table border=\"1\" class=\"dataframe\">\n",
       "  <thead>\n",
       "    <tr style=\"text-align: right;\">\n",
       "      <th></th>\n",
       "      <th>ID</th>\n",
       "      <th>CALENDAR_ID</th>\n",
       "      <th>SERVICE_ABBR</th>\n",
       "      <th>ADHERENCE_ID</th>\n",
       "      <th>DATE</th>\n",
       "      <th>ROUTE_ABBR</th>\n",
       "      <th>BLOCK_ABBR</th>\n",
       "      <th>OPERATOR</th>\n",
       "      <th>TRIP_ID</th>\n",
       "      <th>OVERLOAD_ID</th>\n",
       "      <th>...</th>\n",
       "      <th>STOP_CANCELLED</th>\n",
       "      <th>PREV_SCHED_STOP_CANCELLED</th>\n",
       "      <th>IS_RELIEF</th>\n",
       "      <th>BLOCK_STOP_ORDER</th>\n",
       "      <th>DWELL_IN_MINS</th>\n",
       "      <th>NextDay_Scheduled</th>\n",
       "      <th>NextDay_Actual_Arrival</th>\n",
       "      <th>NextDay_Actual_Departure</th>\n",
       "      <th>STARTING_ADHERENCE</th>\n",
       "      <th>TO DOWNTOWN</th>\n",
       "    </tr>\n",
       "  </thead>\n",
       "  <tbody>\n",
       "    <tr>\n",
       "      <th>0</th>\n",
       "      <td>120230801_345104</td>\n",
       "      <td>120230801</td>\n",
       "      <td>1</td>\n",
       "      <td>99457892</td>\n",
       "      <td>2023-08-01</td>\n",
       "      <td>22</td>\n",
       "      <td>2200</td>\n",
       "      <td>1040</td>\n",
       "      <td>345104</td>\n",
       "      <td>0</td>\n",
       "      <td>...</td>\n",
       "      <td>0</td>\n",
       "      <td>0.0</td>\n",
       "      <td>0</td>\n",
       "      <td>19</td>\n",
       "      <td>0.0</td>\n",
       "      <td>0</td>\n",
       "      <td>0</td>\n",
       "      <td>0</td>\n",
       "      <td>-2.133333</td>\n",
       "      <td>1</td>\n",
       "    </tr>\n",
       "    <tr>\n",
       "      <th>1</th>\n",
       "      <td>120230801_345105</td>\n",
       "      <td>120230801</td>\n",
       "      <td>1</td>\n",
       "      <td>99457895</td>\n",
       "      <td>2023-08-01</td>\n",
       "      <td>22</td>\n",
       "      <td>2200</td>\n",
       "      <td>1040</td>\n",
       "      <td>345105</td>\n",
       "      <td>0</td>\n",
       "      <td>...</td>\n",
       "      <td>0</td>\n",
       "      <td>0.0</td>\n",
       "      <td>0</td>\n",
       "      <td>51</td>\n",
       "      <td>0.0</td>\n",
       "      <td>0</td>\n",
       "      <td>0</td>\n",
       "      <td>0</td>\n",
       "      <td>-1.583333</td>\n",
       "      <td>0</td>\n",
       "    </tr>\n",
       "    <tr>\n",
       "      <th>2</th>\n",
       "      <td>120230801_345106</td>\n",
       "      <td>120230801</td>\n",
       "      <td>1</td>\n",
       "      <td>99457899</td>\n",
       "      <td>2023-08-01</td>\n",
       "      <td>22</td>\n",
       "      <td>2200</td>\n",
       "      <td>1040</td>\n",
       "      <td>345106</td>\n",
       "      <td>0</td>\n",
       "      <td>...</td>\n",
       "      <td>0</td>\n",
       "      <td>0.0</td>\n",
       "      <td>0</td>\n",
       "      <td>80</td>\n",
       "      <td>0.0</td>\n",
       "      <td>0</td>\n",
       "      <td>0</td>\n",
       "      <td>0</td>\n",
       "      <td>-1.716666</td>\n",
       "      <td>1</td>\n",
       "    </tr>\n",
       "    <tr>\n",
       "      <th>3</th>\n",
       "      <td>120230801_345107</td>\n",
       "      <td>120230801</td>\n",
       "      <td>1</td>\n",
       "      <td>99457902</td>\n",
       "      <td>2023-08-01</td>\n",
       "      <td>22</td>\n",
       "      <td>2200</td>\n",
       "      <td>1040</td>\n",
       "      <td>345107</td>\n",
       "      <td>0</td>\n",
       "      <td>...</td>\n",
       "      <td>0</td>\n",
       "      <td>0.0</td>\n",
       "      <td>0</td>\n",
       "      <td>112</td>\n",
       "      <td>0.0</td>\n",
       "      <td>0</td>\n",
       "      <td>0</td>\n",
       "      <td>0</td>\n",
       "      <td>-1.316666</td>\n",
       "      <td>0</td>\n",
       "    </tr>\n",
       "    <tr>\n",
       "      <th>4</th>\n",
       "      <td>120230801_345108</td>\n",
       "      <td>120230801</td>\n",
       "      <td>1</td>\n",
       "      <td>99457906</td>\n",
       "      <td>2023-08-01</td>\n",
       "      <td>22</td>\n",
       "      <td>2200</td>\n",
       "      <td>1040</td>\n",
       "      <td>345108</td>\n",
       "      <td>0</td>\n",
       "      <td>...</td>\n",
       "      <td>0</td>\n",
       "      <td>0.0</td>\n",
       "      <td>0</td>\n",
       "      <td>141</td>\n",
       "      <td>0.0</td>\n",
       "      <td>0</td>\n",
       "      <td>0</td>\n",
       "      <td>0</td>\n",
       "      <td>-1.516666</td>\n",
       "      <td>1</td>\n",
       "    </tr>\n",
       "  </tbody>\n",
       "</table>\n",
       "<p>5 rows × 35 columns</p>\n",
       "</div>"
      ],
      "text/plain": [
       "                 ID  CALENDAR_ID  SERVICE_ABBR  ADHERENCE_ID        DATE  \\\n",
       "0  120230801_345104    120230801             1      99457892  2023-08-01   \n",
       "1  120230801_345105    120230801             1      99457895  2023-08-01   \n",
       "2  120230801_345106    120230801             1      99457899  2023-08-01   \n",
       "3  120230801_345107    120230801             1      99457902  2023-08-01   \n",
       "4  120230801_345108    120230801             1      99457906  2023-08-01   \n",
       "\n",
       "   ROUTE_ABBR  BLOCK_ABBR  OPERATOR  TRIP_ID  OVERLOAD_ID  ... STOP_CANCELLED  \\\n",
       "0          22        2200      1040   345104            0  ...              0   \n",
       "1          22        2200      1040   345105            0  ...              0   \n",
       "2          22        2200      1040   345106            0  ...              0   \n",
       "3          22        2200      1040   345107            0  ...              0   \n",
       "4          22        2200      1040   345108            0  ...              0   \n",
       "\n",
       "   PREV_SCHED_STOP_CANCELLED  IS_RELIEF  BLOCK_STOP_ORDER  DWELL_IN_MINS  \\\n",
       "0                        0.0          0                19            0.0   \n",
       "1                        0.0          0                51            0.0   \n",
       "2                        0.0          0                80            0.0   \n",
       "3                        0.0          0               112            0.0   \n",
       "4                        0.0          0               141            0.0   \n",
       "\n",
       "  NextDay_Scheduled NextDay_Actual_Arrival NextDay_Actual_Departure  \\\n",
       "0                 0                      0                        0   \n",
       "1                 0                      0                        0   \n",
       "2                 0                      0                        0   \n",
       "3                 0                      0                        0   \n",
       "4                 0                      0                        0   \n",
       "\n",
       "   STARTING_ADHERENCE  TO DOWNTOWN  \n",
       "0           -2.133333            1  \n",
       "1           -1.583333            0  \n",
       "2           -1.716666            1  \n",
       "3           -1.316666            0  \n",
       "4           -1.516666            1  \n",
       "\n",
       "[5 rows x 35 columns]"
      ]
     },
     "execution_count": 18,
     "metadata": {},
     "output_type": "execute_result"
    }
   ],
   "source": [
    "#concat dummies onto wego\n",
    "wego_dum = pd.concat([wego, wego_dum], axis = 1)\n",
    "wego_dum = wego_dum.drop('ROUTE_DIRECTION_NAME', axis = 1)"
   ]
  },
  {
   "cell_type": "code",
   "execution_count": 19,
   "id": "e6b570b7",
   "metadata": {},
   "outputs": [],
   "source": [
    "#create X & y\n",
    "X = wego_dum[['ROUTE_ABBR', 'TO DOWNTOWN']].values\n",
    "y = wego_dum['ADHERENCE'].values"
   ]
  },
  {
   "cell_type": "code",
   "execution_count": 20,
   "id": "4e2c9f40",
   "metadata": {},
   "outputs": [],
   "source": [
    "#import splitter\n",
    "from sklearn.model_selection import train_test_split"
   ]
  },
  {
   "cell_type": "code",
   "execution_count": 21,
   "id": "bd03f6a9",
   "metadata": {},
   "outputs": [],
   "source": [
    "#split data into training and test sets\n",
    "X_train, X_test, y_train, y_test = train_test_split(X, y, test_size = 0.25, random_state = 42)"
   ]
  },
  {
   "cell_type": "code",
   "execution_count": 22,
   "id": "22bee2d2",
   "metadata": {},
   "outputs": [],
   "source": [
    "#import regression model\n",
    "from sklearn.linear_model import LinearRegression"
   ]
  },
  {
   "cell_type": "code",
   "execution_count": 32,
   "id": "74e9516a",
   "metadata": {},
   "outputs": [],
   "source": [
    "#fit regression model and run\n",
    "reg = LinearRegression()\n",
    "\n",
    "reg.fit(X_train, y_train)\n",
    "y_pred = reg.predict(X_test)"
   ]
  },
  {
   "cell_type": "code",
   "execution_count": 24,
   "id": "64162bef",
   "metadata": {},
   "outputs": [
    {
     "data": {
      "text/plain": [
       "0.03771256365928333"
      ]
     },
     "execution_count": 24,
     "metadata": {},
     "output_type": "execute_result"
    }
   ],
   "source": [
    "# R^2 score: 3.8% of the variance in adherence is explained by the route and direction.\n",
    "reg.score(X_test, y_test)"
   ]
  },
  {
   "cell_type": "code",
   "execution_count": 25,
   "id": "d556b44a",
   "metadata": {},
   "outputs": [],
   "source": [
    "# import MAE\n",
    "from sklearn.metrics import mean_absolute_error"
   ]
  },
  {
   "cell_type": "code",
   "execution_count": 26,
   "id": "978dbe0a",
   "metadata": {},
   "outputs": [
    {
     "data": {
      "text/plain": [
       "3.6048465707695296"
      ]
     },
     "execution_count": 26,
     "metadata": {},
     "output_type": "execute_result"
    }
   ],
   "source": [
    "# MAE: The model predicts the adherence time within +/- 3.6 minutes.\n",
    "mean_absolute_error(y_test, y_pred)"
   ]
  },
  {
   "cell_type": "code",
   "execution_count": null,
   "id": "70c7d87c",
   "metadata": {},
   "outputs": [],
   "source": [
    "# Now, try using the ROUTE_ABBR, ROUTE_DIRECTION_NAME, and OPERATOR. Does this improve the model? \n",
    "# Warning: Your model may perform very poorly once you add the OPERATOR. \n",
    "#     If so, this is likely caused because some operators have very few observations. \n",
    "#     One option to correct this is to assign an \"Other\" (or -999999) value to operators with few observations."
   ]
  },
  {
   "cell_type": "code",
   "execution_count": 28,
   "id": "32e23f48",
   "metadata": {},
   "outputs": [],
   "source": [
    "#create XX & yy\n",
    "XX = wego_dum[['ROUTE_ABBR', 'TO DOWNTOWN', 'OPERATOR']].values\n",
    "yy = wego_dum['ADHERENCE'].values"
   ]
  },
  {
   "cell_type": "code",
   "execution_count": 29,
   "id": "a201c103",
   "metadata": {},
   "outputs": [],
   "source": [
    "#split data into training and test sets\n",
    "XX_train, XX_test, yy_train, yy_test = train_test_split(XX, yy, test_size = 0.25, random_state = 42)"
   ]
  },
  {
   "cell_type": "code",
   "execution_count": 33,
   "id": "7937417f",
   "metadata": {},
   "outputs": [],
   "source": [
    "#fit regression model and run\n",
    "reg2 = LinearRegression()\n",
    "\n",
    "reg2.fit(XX_train, yy_train)\n",
    "yy_pred = reg2.predict(XX_test)"
   ]
  },
  {
   "cell_type": "code",
   "execution_count": 34,
   "id": "589afeb7",
   "metadata": {},
   "outputs": [
    {
     "data": {
      "text/plain": [
       "0.04696710713155117"
      ]
     },
     "execution_count": 34,
     "metadata": {},
     "output_type": "execute_result"
    }
   ],
   "source": [
    "# R^2 score: 4.6% of the variance in adherence is explained by the route, direction, and operator.\n",
    "reg2.score(XX_test, yy_test)"
   ]
  },
  {
   "cell_type": "code",
   "execution_count": 35,
   "id": "74a023c6",
   "metadata": {},
   "outputs": [
    {
     "data": {
      "text/plain": [
       "3.5910729341830203"
      ]
     },
     "execution_count": 35,
     "metadata": {},
     "output_type": "execute_result"
    }
   ],
   "source": [
    "# MAE: The model predicts the adherence time within +/- 3.6 minutes.\n",
    "mean_absolute_error(yy_test, yy_pred)"
   ]
  },
  {
   "cell_type": "code",
   "execution_count": null,
   "id": "d700ae97",
   "metadata": {},
   "outputs": [],
   "source": [
    "# Finally, the data you have been provided has an STARTING_ADHERENCE column, which contains the ADHERENCE \n",
    "# at the beginning of the route. If you add this metric, does it improve the model? Is this of any practical use?\n",
    "# a) R^2 increased and the error decreased, but this is not practically useful, as we already know that\n",
    "#   starting time has the largest impact on ending time."
   ]
  },
  {
   "cell_type": "code",
   "execution_count": 36,
   "id": "7546a5b5",
   "metadata": {},
   "outputs": [],
   "source": [
    "#create XXX & yyy\n",
    "XXX = wego_dum[['ROUTE_ABBR', 'TO DOWNTOWN', 'OPERATOR', 'STARTING_ADHERENCE']].values\n",
    "yyy = wego_dum['ADHERENCE'].values"
   ]
  },
  {
   "cell_type": "code",
   "execution_count": 38,
   "id": "997bef41",
   "metadata": {},
   "outputs": [],
   "source": [
    "#split data into training and test sets\n",
    "XXX_train, XXX_test, yyy_train, yyy_test = train_test_split(XXX, yyy, test_size = 0.25, random_state = 42)"
   ]
  },
  {
   "cell_type": "code",
   "execution_count": 39,
   "id": "14bd7d6c",
   "metadata": {},
   "outputs": [],
   "source": [
    "#fit regression model and run\n",
    "reg3 = LinearRegression()\n",
    "\n",
    "reg3.fit(XXX_train, yyy_train)\n",
    "yyy_pred = reg3.predict(XXX_test)"
   ]
  },
  {
   "cell_type": "code",
   "execution_count": 40,
   "id": "e1424504",
   "metadata": {},
   "outputs": [
    {
     "data": {
      "text/plain": [
       "0.35391543995027097"
      ]
     },
     "execution_count": 40,
     "metadata": {},
     "output_type": "execute_result"
    }
   ],
   "source": [
    "# R^2 score: 35% of the variance in adherence is explained by the route, direction, operator, and starting adherence.\n",
    "reg3.score(XXX_test, yyy_test)"
   ]
  },
  {
   "cell_type": "code",
   "execution_count": 41,
   "id": "c1f6bed3",
   "metadata": {},
   "outputs": [
    {
     "data": {
      "text/plain": [
       "2.99836123850187"
      ]
     },
     "execution_count": 41,
     "metadata": {},
     "output_type": "execute_result"
    }
   ],
   "source": [
    "# MAE: The model predicts the adherence time within +/- 3.0 minutes.\n",
    "mean_absolute_error(yyy_test, yyy_pred)"
   ]
  },
  {
   "cell_type": "code",
   "execution_count": null,
   "id": "73c491bd",
   "metadata": {},
   "outputs": [],
   "source": []
  }
 ],
 "metadata": {
  "kernelspec": {
   "display_name": "Python 3 (ipykernel)",
   "language": "python",
   "name": "python3"
  },
  "language_info": {
   "codemirror_mode": {
    "name": "ipython",
    "version": 3
   },
   "file_extension": ".py",
   "mimetype": "text/x-python",
   "name": "python",
   "nbconvert_exporter": "python",
   "pygments_lexer": "ipython3",
   "version": "3.11.4"
  }
 },
 "nbformat": 4,
 "nbformat_minor": 5
}
